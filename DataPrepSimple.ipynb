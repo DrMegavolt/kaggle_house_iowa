{
 "cells": [
  {
   "cell_type": "code",
   "execution_count": 1,
   "metadata": {},
   "outputs": [
    {
     "name": "stdout",
     "output_type": "stream",
     "text": [
      "importing Jupyter notebook from Helpers.ipynb\n"
     ]
    }
   ],
   "source": [
    "import import_ipynb\n",
    "from Helpers import *\n",
    "import pandas as pd\n",
    "import numpy as np\n",
    "import sklearn\n",
    "from sklearn.base import BaseEstimator, TransformerMixin\n",
    "from sklearn.pipeline import make_pipeline, Pipeline\n",
    "\n",
    "from sklearn.model_selection import cross_val_score, GridSearchCV,cross_val_predict\n",
    "from sklearn.ensemble import RandomForestRegressor\n",
    "from sklearn.preprocessing import MinMaxScaler"
   ]
  },
  {
   "cell_type": "code",
   "execution_count": 2,
   "metadata": {},
   "outputs": [],
   "source": [
    "train = pd.read_csv('train.csv')\n",
    "test = pd.read_csv('test.csv')\n",
    "\n",
    "test_ids = test['Id']"
   ]
  },
  {
   "cell_type": "code",
   "execution_count": null,
   "metadata": {},
   "outputs": [],
   "source": []
  },
  {
   "cell_type": "code",
   "execution_count": 3,
   "metadata": {},
   "outputs": [],
   "source": [
    "class ColumnSelector(BaseEstimator, TransformerMixin):\n",
    "    def __init__(self, columns):\n",
    "        self.columns = columns\n",
    "\n",
    "    def fit(self, X, y=None):\n",
    "        return self\n",
    "\n",
    "    def transform(self, X):\n",
    "        assert isinstance(X, pd.DataFrame)\n",
    "\n",
    "        try:\n",
    "            return X[self.columns]\n",
    "        except KeyError:\n",
    "            cols_error = list(set(self.columns) - set(X.columns))\n",
    "            raise KeyError(\"The DataFrame does not include the columns: %s\" % cols_error)\n",
    "\n",
    "class SumColumns(BaseEstimator, TransformerMixin):\n",
    "    def __init__(self, columns, name, remove=True):\n",
    "        self.columns = columns\n",
    "\n",
    "    def fit(self, X, y=None):\n",
    "        return self\n",
    "\n",
    "    def transform(self, X):\n",
    "        assert isinstance(X, pd.DataFrame)\n",
    "\n",
    "        try:\n",
    "            X[name]=X[columns].sum(axis=1)\n",
    "            X.drop(columns, axis=1, inplace=True)\n",
    "            return X\n",
    "        except KeyError:\n",
    "            cols_error = list(set(self.columns) - set(X.columns))\n",
    "            raise KeyError(\"The DataFrame does not include the columns: %s\" % cols_error)\n",
    "\n",
    "\n",
    "\n",
    "\n",
    "\n",
    "# class HomePreprocessor:\n",
    "#     def __init__(self, drop_low_correlated=False):\n",
    "#         self.drop_low_correlated = drop_low_correlated\n",
    "\n",
    "#     def fit(self, X, y=None):\n",
    "#         return self\n",
    "\n",
    "#     def transform(self, X, *_):\n",
    "\n",
    "#         if (drop_low_correlated):\n",
    "#             X=X.pipe(drop_non_correlated_columns, min_corr=ignoreUncorrelatedRate)\n",
    "        \n",
    "#         df = df.pipe(drop_columns, columns=high_nan_columns) # high number of NA values \n",
    "#         .pipe(drop_columns, columns=no_variety_columns) # no variety\n",
    "\n",
    "#         .pipe(fill_NA, columns=columnsToFillNone, value='None') # \n",
    "#         .pipe(fill_NA, columns=columnsToFillZero, value=0) # \n",
    "#         .pipe(get_dummies_for_category_columns, columns=X.columns[X.dtypes==\"object\"])\n",
    "#         .pipe(get_dummies_for_category_columns, columns=categoryColumns2)\n",
    "#         .pipe(set_type, 'MasVnrArea','int64')\n",
    "#         .pipe(year_to_age, 'YearBuilt')\n",
    "#         .pipe(year_to_age, 'YearRemodAdd')\n",
    "#         .pipe(year_to_age, 'YrSold')\n",
    "#         .pipe(drop_columns, columns=[\"Id\",\"BedroomAbvGr\"])## drop Garbage\n",
    "#         .pipe(log_tranform, columns=areaColumns)       \n",
    "#         return X\n",
    "\n",
    "# train = preprocess(train).pipe(drop_non_correlated_columns, min_corr=ignoreUncorrelatedRate) \n",
    "# test_ids=test['Id']\n",
    "# test = preprocess(test)\n"
   ]
  },
  {
   "cell_type": "code",
   "execution_count": 4,
   "metadata": {},
   "outputs": [
    {
     "name": "stdout",
     "output_type": "stream",
     "text": [
      "{'max_depth': 8, 'n_estimators': 100}\n",
      "[-0.03355289 -0.0266471  -0.0353897  -0.03702295 -0.04165031 -0.02817824\n",
      " -0.0292269  -0.02705969 -0.03190166 -0.03226198]\n"
     ]
    }
   ],
   "source": [
    "\n",
    "y_train = np.log(train['SalePrice'])\n",
    "#y_test = np.log(test['SalePrice'])\n",
    "\n",
    "cs = ColumnSelector(columns=['GrLivArea', 'YearBuilt', 'OverallQual'])\n",
    "\n",
    "pp = Pipeline(\n",
    "    [('SelectColumns', cs),])\n",
    "X_train = pp.fit_transform(train)\n",
    "X_test = pp.fit_transform(test)\n",
    "\n",
    "\n",
    "\n",
    "# Perform Grid-Search\n",
    "gsc = GridSearchCV(\n",
    "    estimator=RandomForestRegressor(),\n",
    "    param_grid={\n",
    "        'max_depth': range(4,10),\n",
    "        'n_estimators': (10, 50, 100, 1000, 2000),\n",
    "    },\n",
    "    cv=5, scoring='neg_mean_squared_error', verbose=0, n_jobs=-1)\n",
    "\n",
    "grid_result = gsc.fit(X_train, y_train)\n",
    "best_params = grid_result.best_params_\n",
    "print(best_params)\n",
    "rfr = RandomForestRegressor(max_depth=best_params[\"max_depth\"], n_estimators=best_params[\"n_estimators\"],\n",
    "                            random_state=False, verbose=False)\n",
    "\n",
    "\n",
    "scores = cross_val_score(rfr, X_train, y_train, cv=10, scoring='neg_mean_squared_error')\n",
    "print(scores)"
   ]
  },
  {
   "cell_type": "code",
   "execution_count": 5,
   "metadata": {},
   "outputs": [],
   "source": [
    "#sklearn.metrics.SCORERS.keys()\n",
    "rfr.fit(X_train, y_train)\n",
    "predictions = rfr.predict( X_test)"
   ]
  },
  {
   "cell_type": "code",
   "execution_count": 6,
   "metadata": {},
   "outputs": [],
   "source": [
    "result=np.exp(predictions)"
   ]
  },
  {
   "cell_type": "code",
   "execution_count": 7,
   "metadata": {},
   "outputs": [
    {
     "data": {
      "text/plain": [
       "array([124153.06923398, 154273.09436089, 155596.32087912, ...,\n",
       "       138471.38963038, 127944.93178205, 226642.11562243])"
      ]
     },
     "execution_count": 7,
     "metadata": {},
     "output_type": "execute_result"
    }
   ],
   "source": [
    "result"
   ]
  },
  {
   "cell_type": "code",
   "execution_count": 8,
   "metadata": {},
   "outputs": [
    {
     "name": "stdout",
     "output_type": "stream",
     "text": [
      "     Id      SalePrice\n",
      "0  1461  124153.069234\n",
      "1  1462  154273.094361\n",
      "2  1463  155596.320879\n",
      "3  1464  182177.563836\n",
      "4  1465  202291.613167\n"
     ]
    }
   ],
   "source": [
    "dfR = pd.DataFrame(test_ids,columns=['Id'])\n",
    "dfR['SalePrice']=result\n",
    "dfR.to_csv('predictions.csv',index = None, header=True)\n",
    "print(dfR.head())"
   ]
  },
  {
   "cell_type": "code",
   "execution_count": 9,
   "metadata": {},
   "outputs": [
    {
     "data": {
      "text/plain": [
       "Id                  0\n",
       "MSSubClass          0\n",
       "MSZoning            4\n",
       "LotFrontage       227\n",
       "LotArea             0\n",
       "Street              0\n",
       "Alley            1352\n",
       "LotShape            0\n",
       "LandContour         0\n",
       "Utilities           2\n",
       "LotConfig           0\n",
       "LandSlope           0\n",
       "Neighborhood        0\n",
       "Condition1          0\n",
       "Condition2          0\n",
       "BldgType            0\n",
       "HouseStyle          0\n",
       "OverallQual         0\n",
       "OverallCond         0\n",
       "YearBuilt           0\n",
       "YearRemodAdd        0\n",
       "RoofStyle           0\n",
       "RoofMatl            0\n",
       "Exterior1st         1\n",
       "Exterior2nd         1\n",
       "MasVnrType         16\n",
       "MasVnrArea         15\n",
       "ExterQual           0\n",
       "ExterCond           0\n",
       "Foundation          0\n",
       "                 ... \n",
       "HalfBath            0\n",
       "BedroomAbvGr        0\n",
       "KitchenAbvGr        0\n",
       "KitchenQual         1\n",
       "TotRmsAbvGrd        0\n",
       "Functional          2\n",
       "Fireplaces          0\n",
       "FireplaceQu       730\n",
       "GarageType         76\n",
       "GarageYrBlt        78\n",
       "GarageFinish       78\n",
       "GarageCars          1\n",
       "GarageArea          1\n",
       "GarageQual         78\n",
       "GarageCond         78\n",
       "PavedDrive          0\n",
       "WoodDeckSF          0\n",
       "OpenPorchSF         0\n",
       "EnclosedPorch       0\n",
       "3SsnPorch           0\n",
       "ScreenPorch         0\n",
       "PoolArea            0\n",
       "PoolQC           1456\n",
       "Fence            1169\n",
       "MiscFeature      1408\n",
       "MiscVal             0\n",
       "MoSold              0\n",
       "YrSold              0\n",
       "SaleType            1\n",
       "SaleCondition       0\n",
       "Length: 80, dtype: int64"
      ]
     },
     "execution_count": 9,
     "metadata": {},
     "output_type": "execute_result"
    }
   ],
   "source": [
    "test.isnull().sum()"
   ]
  },
  {
   "cell_type": "code",
   "execution_count": 11,
   "metadata": {},
   "outputs": [
    {
     "data": {
      "text/plain": [
       "array([nan, 'Gar2', 'Shed', 'Othr'], dtype=object)"
      ]
     },
     "execution_count": 11,
     "metadata": {},
     "output_type": "execute_result"
    }
   ],
   "source": [
    "test['MiscFeature'].unique()"
   ]
  },
  {
   "cell_type": "code",
   "execution_count": null,
   "metadata": {},
   "outputs": [],
   "source": []
  }
 ],
 "metadata": {
  "kernelspec": {
   "display_name": "Python 3",
   "language": "python",
   "name": "python3"
  },
  "language_info": {
   "codemirror_mode": {
    "name": "ipython",
    "version": 3
   },
   "file_extension": ".py",
   "mimetype": "text/x-python",
   "name": "python",
   "nbconvert_exporter": "python",
   "pygments_lexer": "ipython3",
   "version": "3.7.3"
  }
 },
 "nbformat": 4,
 "nbformat_minor": 2
}
