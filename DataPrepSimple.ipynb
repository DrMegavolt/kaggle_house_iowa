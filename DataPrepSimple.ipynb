{
 "cells": [
  {
   "cell_type": "code",
   "execution_count": 1,
   "metadata": {},
   "outputs": [
    {
     "name": "stdout",
     "output_type": "stream",
     "text": [
      "importing Jupyter notebook from Helpers.ipynb\n"
     ]
    }
   ],
   "source": [
    "import import_ipynb\n",
    "from Helpers import *\n",
    "import pandas as pd\n",
    "import numpy as np\n",
    "import sklearn\n",
    "from sklearn.base import BaseEstimator, TransformerMixin\n",
    "from sklearn.pipeline import make_pipeline, Pipeline\n",
    "\n",
    "from sklearn.model_selection import cross_val_score, GridSearchCV,cross_val_predict\n",
    "from sklearn.ensemble import RandomForestRegressor\n",
    "from sklearn.preprocessing import MinMaxScaler"
   ]
  },
  {
   "cell_type": "code",
   "execution_count": 2,
   "metadata": {},
   "outputs": [],
   "source": [
    "train = pd.read_csv('train.csv')\n",
    "test = pd.read_csv('test.csv')\n",
    "\n",
    "test_ids = test['Id']"
   ]
  },
  {
   "cell_type": "code",
   "execution_count": null,
   "metadata": {},
   "outputs": [],
   "source": []
  },
  {
   "cell_type": "code",
   "execution_count": 3,
   "metadata": {},
   "outputs": [],
   "source": [
    "\n",
    "\n",
    "\n",
    "# class HomePreprocessor:\n",
    "#     def __init__(self, drop_low_correlated=False):\n",
    "#         self.drop_low_correlated = drop_low_correlated\n",
    "\n",
    "#     def fit(self, X, y=None):\n",
    "#         return self\n",
    "\n",
    "#     def transform(self, X, *_):\n",
    "\n",
    "#         if (drop_low_correlated):\n",
    "#             X=X.pipe(drop_non_correlated_columns, min_corr=ignoreUncorrelatedRate)\n",
    "        \n",
    "#         df = df.pipe(drop_columns, columns=high_nan_columns) # high number of NA values \n",
    "#         .pipe(drop_columns, columns=no_variety_columns) # no variety\n",
    "\n",
    "#         .pipe(fill_NA, columns=columnsToFillNone, value='None') # \n",
    "#         .pipe(fill_NA, columns=columnsToFillZero, value=0) # \n",
    "#         .pipe(get_dummies_for_category_columns, columns=X.columns[X.dtypes==\"object\"])\n",
    "#         .pipe(get_dummies_for_category_columns, columns=categoryColumns2)\n",
    "#         .pipe(set_type, 'MasVnrArea','int64')\n",
    "#         .pipe(year_to_age, 'YearBuilt')\n",
    "#         .pipe(year_to_age, 'YearRemodAdd')\n",
    "#         .pipe(year_to_age, 'YrSold')\n",
    "#         .pipe(drop_columns, columns=[\"Id\",\"BedroomAbvGr\"])## drop Garbage\n",
    "#         .pipe(log_tranform, columns=areaColumns)       \n",
    "#         return X\n",
    "\n",
    "# train = preprocess(train).pipe(drop_non_correlated_columns, min_corr=ignoreUncorrelatedRate) \n",
    "# test_ids=test['Id']\n",
    "# test = preprocess(test)\n"
   ]
  },
  {
   "cell_type": "code",
   "execution_count": 4,
   "metadata": {},
   "outputs": [
    {
     "name": "stderr",
     "output_type": "stream",
     "text": [
      "/Users/drmegavolt/miniconda3/envs/home_iowa/lib/python3.7/site-packages/sklearn/base.py:553: FutureWarning: specifying 'categories' or 'ordered' in .astype() is deprecated; pass a CategoricalDtype instead\n",
      "  return self.fit(X, **fit_params).transform(X)\n",
      "Helpers.ipynb:89: SettingWithCopyWarning: \n",
      "A value is trying to be set on a copy of a slice from a DataFrame.\n",
      "Try using .loc[row_indexer,col_indexer] = value instead\n",
      "\n",
      "See the caveats in the documentation: http://pandas.pydata.org/pandas-docs/stable/indexing.html#indexing-view-versus-copy\n",
      "  \"\\n\",\n"
     ]
    },
    {
     "name": "stdout",
     "output_type": "stream",
     "text": [
      "{'max_depth': 8, 'n_estimators': 1000}\n",
      "[-0.03060126 -0.02572984 -0.03170459 -0.03506124 -0.03620101 -0.02550913\n",
      " -0.02359448 -0.02473443 -0.02734947 -0.02980915]\n"
     ]
    }
   ],
   "source": [
    "\n",
    "y_train = np.log(train['SalePrice'])\n",
    "#y_test = np.log(test['SalePrice'])\n",
    "\n",
    "cs = ColumnSelector(columns=['GrLivArea', 'YearBuilt', 'OverallQual','MSSubClass'])\n",
    "dt = DummiesTransformer(column='MSSubClass', keys=[ 20,  30,  40,  45,  50,  60,  70,  75,  80,  85,  90, 120, 150, 160, 180, 190])\n",
    "pp = Pipeline(\n",
    "    [('SelectColumns', cs),('Dummies', dt)])\n",
    "X_train = pp.fit_transform(train)\n",
    "X_test = pp.fit_transform(test)\n",
    "\n",
    "\n",
    "\n",
    "# Perform Grid-Search\n",
    "gsc = GridSearchCV(\n",
    "    estimator=RandomForestRegressor(),\n",
    "    param_grid={\n",
    "        'max_depth': range(8,10),\n",
    "        'n_estimators': ( 50, 100, 1000, 2000),\n",
    "    },\n",
    "    cv=5, scoring='neg_mean_squared_error', verbose=0, n_jobs=-1)\n",
    "\n",
    "grid_result = gsc.fit(X_train, y_train)\n",
    "best_params = grid_result.best_params_\n",
    "print(best_params)\n",
    "rfr = RandomForestRegressor(max_depth=best_params[\"max_depth\"], n_estimators=best_params[\"n_estimators\"],\n",
    "                            random_state=False, verbose=False)\n",
    "\n",
    "\n",
    "scores = cross_val_score(rfr, X_train, y_train, cv=10, scoring='neg_mean_squared_error')\n",
    "print(scores)"
   ]
  },
  {
   "cell_type": "code",
   "execution_count": 5,
   "metadata": {},
   "outputs": [],
   "source": [
    "#sklearn.metrics.SCORERS.keys()\n",
    "rfr.fit(X_train, y_train)\n",
    "predictions = rfr.predict( X_test)"
   ]
  },
  {
   "cell_type": "code",
   "execution_count": 6,
   "metadata": {},
   "outputs": [],
   "source": [
    "result=np.exp(predictions)"
   ]
  },
  {
   "cell_type": "code",
   "execution_count": 7,
   "metadata": {},
   "outputs": [
    {
     "data": {
      "text/plain": [
       "array([124001.31958912, 152603.91794636, 166300.38093676, ...,\n",
       "       141812.05039926, 129845.6675408 , 227536.10000014])"
      ]
     },
     "execution_count": 7,
     "metadata": {},
     "output_type": "execute_result"
    }
   ],
   "source": [
    "result"
   ]
  },
  {
   "cell_type": "code",
   "execution_count": 8,
   "metadata": {},
   "outputs": [
    {
     "name": "stdout",
     "output_type": "stream",
     "text": [
      "     Id      SalePrice\n",
      "0  1461  124001.319589\n",
      "1  1462  152603.917946\n",
      "2  1463  166300.380937\n",
      "3  1464  181007.865275\n",
      "4  1465  202710.594751\n"
     ]
    }
   ],
   "source": [
    "dfR = pd.DataFrame(test_ids,columns=['Id'])\n",
    "dfR['SalePrice']=result\n",
    "dfR.to_csv('predictions.csv',index = None, header=True)\n",
    "print(dfR.head())"
   ]
  },
  {
   "cell_type": "code",
   "execution_count": 13,
   "metadata": {},
   "outputs": [
    {
     "data": {
      "text/plain": [
       "Index(['MSZoning', 'LotFrontage', 'Alley', 'Utilities', 'Exterior1st',\n",
       "       'Exterior2nd', 'MasVnrType', 'MasVnrArea', 'BsmtQual', 'BsmtCond',\n",
       "       'BsmtExposure', 'BsmtFinType1', 'BsmtFinSF1', 'BsmtFinType2',\n",
       "       'BsmtFinSF2', 'BsmtUnfSF', 'TotalBsmtSF', 'BsmtFullBath',\n",
       "       'BsmtHalfBath', 'KitchenQual', 'Functional', 'FireplaceQu',\n",
       "       'GarageType', 'GarageYrBlt', 'GarageFinish', 'GarageCars', 'GarageArea',\n",
       "       'GarageQual', 'GarageCond', 'PoolQC', 'Fence', 'MiscFeature',\n",
       "       'SaleType'],\n",
       "      dtype='object')"
      ]
     },
     "execution_count": 13,
     "metadata": {},
     "output_type": "execute_result"
    }
   ],
   "source": [
    "test.columns[test.isnull().sum()>0]"
   ]
  },
  {
   "cell_type": "code",
   "execution_count": 10,
   "metadata": {},
   "outputs": [
    {
     "data": {
      "text/plain": [
       "array([nan, 'Gar2', 'Shed', 'Othr'], dtype=object)"
      ]
     },
     "execution_count": 10,
     "metadata": {},
     "output_type": "execute_result"
    }
   ],
   "source": [
    "test['MiscFeature'].unique()"
   ]
  },
  {
   "cell_type": "code",
   "execution_count": 17,
   "metadata": {},
   "outputs": [
    {
     "data": {
      "text/plain": [
       "0       False\n",
       "1       False\n",
       "2       False\n",
       "3       False\n",
       "4       False\n",
       "5       False\n",
       "6       False\n",
       "7       False\n",
       "8       False\n",
       "9       False\n",
       "10      False\n",
       "11      False\n",
       "12      False\n",
       "13      False\n",
       "14      False\n",
       "15      False\n",
       "16      False\n",
       "17      False\n",
       "18      False\n",
       "19      False\n",
       "20      False\n",
       "21      False\n",
       "22      False\n",
       "23      False\n",
       "24      False\n",
       "25      False\n",
       "26      False\n",
       "27      False\n",
       "28      False\n",
       "29      False\n",
       "        ...  \n",
       "1429    False\n",
       "1430    False\n",
       "1431    False\n",
       "1432    False\n",
       "1433    False\n",
       "1434    False\n",
       "1435    False\n",
       "1436    False\n",
       "1437    False\n",
       "1438    False\n",
       "1439    False\n",
       "1440    False\n",
       "1441    False\n",
       "1442    False\n",
       "1443    False\n",
       "1444    False\n",
       "1445    False\n",
       "1446    False\n",
       "1447    False\n",
       "1448    False\n",
       "1449    False\n",
       "1450    False\n",
       "1451    False\n",
       "1452    False\n",
       "1453    False\n",
       "1454    False\n",
       "1455    False\n",
       "1456    False\n",
       "1457    False\n",
       "1458    False\n",
       "Length: 1459, dtype: bool"
      ]
     },
     "execution_count": 17,
     "metadata": {},
     "output_type": "execute_result"
    }
   ],
   "source": [
    "(test['BsmtFullBath']+0.5*test.BsmtHalfBath).isnull()"
   ]
  },
  {
   "cell_type": "code",
   "execution_count": null,
   "metadata": {},
   "outputs": [],
   "source": []
  }
 ],
 "metadata": {
  "kernelspec": {
   "display_name": "Python 3",
   "language": "python",
   "name": "python3"
  },
  "language_info": {
   "codemirror_mode": {
    "name": "ipython",
    "version": 3
   },
   "file_extension": ".py",
   "mimetype": "text/x-python",
   "name": "python",
   "nbconvert_exporter": "python",
   "pygments_lexer": "ipython3",
   "version": "3.7.3"
  }
 },
 "nbformat": 4,
 "nbformat_minor": 2
}
