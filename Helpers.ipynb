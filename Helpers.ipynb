{
 "cells": [
  {
   "cell_type": "code",
   "execution_count": null,
   "metadata": {},
   "outputs": [],
   "source": [
    "import pandas as pd\n",
    "import numpy as np\n",
    "\n",
    "def drop_columns(df, columns):\n",
    "    df.drop(columns, axis=1,inplace=True)\n",
    "    return df\n",
    "\n",
    "def fill_NA(df, columns, value):\n",
    "    for c in columns:\n",
    "        df[c].fillna(value,inplace=True)\n",
    "    return df\n",
    "\n",
    "def get_dummies_for_category_columns(df, columns):\n",
    "    df = pd.concat([df,pd.get_dummies(df[columns])],axis=1)\n",
    "    df.drop(columns, axis=1, inplace=True)\n",
    "    return df\n",
    "\n",
    "def drop_huge_buildings(df):\n",
    "    # Drop huge buildings\n",
    "    df=df[df[\"1stFlrSF\"]<4000]\n",
    "    df=df[df[\"LotArea\"]<50000]\n",
    "    df=df[df[\"BsmtFullBath\"]<3] # why would you even have 3 bath in the basement?\n",
    "    return df\n",
    "\n",
    "def set_type(df, column, type_name):\n",
    "    df[column] = df[column].astype(type_name)\n",
    "    return df\n",
    "\n",
    "def drop_non_correlated_columns(df, min_corr):\n",
    "    salesPriceCorr = df.corr()['SalePrice']\n",
    "    good_corr = np.logical_or(salesPriceCorr<-min_corr, salesPriceCorr>min_corr)\n",
    "    onlyCorrelatedColumns = salesPriceCorr[good_corr]\n",
    "    df = df[onlyCorrelatedColumns.index]\n",
    "    return df\n",
    "\n",
    "def log_tranform(df, columns):\n",
    "    for c in columns:\n",
    "        df['log_'+c] = np.log1p(df[c])       \n",
    "    return drop_columns(df, columns)\n",
    "\n",
    "def year_to_age(df, column):\n",
    "    df['age_'+column] = 2019 - df[column]\n",
    "    return drop_columns(df, column)\n",
    "\n",
    "def create_exists_column(df, column):\n",
    "    df['exists_'+ column] = df[column] > 0\n",
    "    return df;\n",
    "    "
   ]
  }
 ],
 "metadata": {
  "kernelspec": {
   "display_name": "Python 3",
   "language": "python",
   "name": "python3"
  },
  "language_info": {
   "codemirror_mode": {
    "name": "ipython",
    "version": 3
   },
   "file_extension": ".py",
   "mimetype": "text/x-python",
   "name": "python",
   "nbconvert_exporter": "python",
   "pygments_lexer": "ipython3",
   "version": "3.7.3"
  }
 },
 "nbformat": 4,
 "nbformat_minor": 2
}
