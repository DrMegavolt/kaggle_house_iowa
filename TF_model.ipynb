{
 "cells": [
  {
   "cell_type": "code",
   "execution_count": 1,
   "metadata": {},
   "outputs": [
    {
     "name": "stderr",
     "output_type": "stream",
     "text": [
      "Using TensorFlow backend.\n"
     ]
    },
    {
     "name": "stdout",
     "output_type": "stream",
     "text": [
      "importing Jupyter notebook from Helpers.ipynb\n",
      "importing Jupyter notebook from PandasFeatureUnion.ipynb\n"
     ]
    },
    {
     "name": "stderr",
     "output_type": "stream",
     "text": [
      "/Users/drmegavolt/miniconda3/envs/home_iowa/lib/python3.7/site-packages/sklearn/externals/joblib/__init__.py:15: DeprecationWarning: sklearn.externals.joblib is deprecated in 0.21 and will be removed in 0.23. Please import this functionality directly from joblib, which can be installed with: pip install joblib. If this warning is raised when loading pickled models, you may need to re-serialize those models with scikit-learn 0.21+.\n",
      "  warnings.warn(msg, category=DeprecationWarning)\n"
     ]
    }
   ],
   "source": [
    "import matplotlib.pyplot as plt\n",
    "import seaborn as sns\n",
    "import pandas as pd\n",
    "from matplotlib import pyplot\n",
    "sns.set()\n",
    "import numpy as np\n",
    "from sklearn.model_selection import train_test_split\n",
    "from sklearn import preprocessing\n",
    "from sklearn.preprocessing import FunctionTransformer\n",
    "from keras.layers import Dense, Dropout\n",
    "from keras.models import Sequential\n",
    "pd.set_option('display.max_rows', 50)\n",
    "pd.set_option('display.max_columns', 500)\n",
    "pd.set_option('display.width', 1000)\n",
    "from keras.optimizers import SGD\n",
    "from sklearn.impute import SimpleImputer\n",
    "from sklearn.pipeline import make_pipeline, Pipeline, FeatureUnion\n",
    "\n",
    "import keras\n",
    "from tensorflow.python import debug as tf_debug\n",
    "from tensorflow.python.client import device_lib\n",
    "#print(device_lib.list_local_devices())\n",
    "import import_ipynb\n",
    "from Helpers import *\n",
    "from PandasFeatureUnion import PandasFeatureUnion"
   ]
  },
  {
   "cell_type": "code",
   "execution_count": 2,
   "metadata": {},
   "outputs": [
    {
     "name": "stderr",
     "output_type": "stream",
     "text": [
      "/Users/drmegavolt/miniconda3/envs/home_iowa/lib/python3.7/site-packages/pandas/core/generic.py:6130: SettingWithCopyWarning: \n",
      "A value is trying to be set on a copy of a slice from a DataFrame\n",
      "\n",
      "See the caveats in the documentation: http://pandas.pydata.org/pandas-docs/stable/indexing.html#indexing-view-versus-copy\n",
      "  self._update_inplace(new_data)\n",
      "/Users/drmegavolt/miniconda3/envs/home_iowa/lib/python3.7/site-packages/pandas/core/indexing.py:362: SettingWithCopyWarning: \n",
      "A value is trying to be set on a copy of a slice from a DataFrame.\n",
      "Try using .loc[row_indexer,col_indexer] = value instead\n",
      "\n",
      "See the caveats in the documentation: http://pandas.pydata.org/pandas-docs/stable/indexing.html#indexing-view-versus-copy\n",
      "  self.obj[key] = _infer_fill_value(value)\n",
      "/Users/drmegavolt/miniconda3/envs/home_iowa/lib/python3.7/site-packages/pandas/core/indexing.py:543: SettingWithCopyWarning: \n",
      "A value is trying to be set on a copy of a slice from a DataFrame.\n",
      "Try using .loc[row_indexer,col_indexer] = value instead\n",
      "\n",
      "See the caveats in the documentation: http://pandas.pydata.org/pandas-docs/stable/indexing.html#indexing-view-versus-copy\n",
      "  self.obj[item] = s\n"
     ]
    }
   ],
   "source": [
    "train = pd.read_csv('train.csv', index_col='Id')\n",
    "test = pd.read_csv('test.csv',index_col='Id')\n",
    "test_ids = test.index\n",
    "y_train = np.log(train['SalePrice'])\n",
    "np.random.seed(1)\n",
    "\n",
    "total_bath= lambda x: x.FullBath+x.HalfBath*0.5 +x.BsmtHalfBath*0.5+x.BsmtFullBath\n",
    "\n",
    "\n",
    "bath_columns = ['FullBath','HalfBath','BsmtHalfBath', 'BsmtFullBath']\n",
    "bath_pipeline = Pipeline([\n",
    "    ('SelectBathColumns',  ColumnSelector(columns=bath_columns)),\n",
    "    ('fillNaAsZero', FillNA(columns=bath_columns, fill_value=0)),\n",
    "    ('combine', ApplyTransformer(fn=total_bath, name='Bath'))\n",
    "]) \n",
    "  \n",
    "\n",
    "important_columns = [\n",
    "    'GrLivArea', 'YearBuilt', 'OverallQual','MSSubClass',\n",
    "    'Neighborhood', 'SaleType'\n",
    "]\n",
    "# No improovement\n",
    "# 'BldgType' \n",
    "\n",
    "cs = ColumnSelector(columns=important_columns)\n",
    "\n",
    "scdt = DummiesTransformer(column='MSSubClass', keys=[ 20,  30,  40,  45,  50,  60,  70,  75,  80,  85,  90, 120, 150, 160, 180, 190])\n",
    "oqdt = DummiesTransformer(column='OverallQual', keys=range(1,11))\n",
    "neigbTrans = DummiesTransformer(column='Neighborhood', keys=[\"Blmngtn\", \"Blueste\", \"BrDale\", \"BrkSide\", \"ClearCr\", \"CollgCr\", \"Crawfor\", \"Edwards\", \"Gilbert\", \"IDOTRR\", \"MeadowV\", \"Mitchel\", \"Names\", \"NoRidge\", \"NPkVill\", \"NridgHt\", \"NWAmes\", \"OldTown\", \"SWISU\", \"Sawyer\", \"SawyerW\", \"Somerst\", \"StoneBr\", \"Timber\", \"Veenker\"])\n",
    "bdTypeTrans= DummiesTransformer(column='BldgType', keys=['1Fam', '2FmCon', 'Duplex', 'TwnhsE', 'TwnhsI'])\n",
    "saleTypeTrans= DummiesTransformer(column='SaleType', keys=[\"WD\",\"CWD\",\"VWD\",\"New\",\"COD\",\"Con\",\"ConLw\",\"ConLI\",\"ConLD\",\"Oth\"])\n",
    "\n",
    "core_pipeline = Pipeline(\n",
    "    [('SelectColumns', cs),\n",
    "     ('DummiesMSSubClass', scdt),\n",
    "     ('OverallQual', oqdt),\n",
    "     ('DummiesNeighborhood', neigbTrans),\n",
    "     ('DummiesSaleType', saleTypeTrans) #('DummiesBldgType',bdTypeTrans)\n",
    "    ])\n",
    "\n",
    "pp = PandasFeatureUnion([\n",
    "    ('bath',bath_pipeline),\n",
    "    ('core', core_pipeline)], n_jobs=None)\n",
    "\n",
    "X_train = pp.fit_transform(train)\n",
    "X_test = pp.transform(test)\n",
    " "
   ]
  },
  {
   "cell_type": "code",
   "execution_count": 3,
   "metadata": {},
   "outputs": [
    {
     "name": "stdout",
     "output_type": "stream",
     "text": [
      "WARNING:tensorflow:From /Users/drmegavolt/.local/lib/python3.7/site-packages/tensorflow/python/framework/op_def_library.py:263: colocate_with (from tensorflow.python.framework.ops) is deprecated and will be removed in a future version.\n",
      "Instructions for updating:\n",
      "Colocations handled automatically by placer.\n"
     ]
    }
   ],
   "source": [
    "# define model\n",
    "model = Sequential()\n",
    "input_layer = Dense(50, input_dim=len(X_train.columns), activation='relu', kernel_initializer='normal') \n",
    "model.add(input_layer)\n",
    "\n",
    "model.add(Dense(50, activation='relu', kernel_initializer='normal') )\n",
    "# model.add(Dropout(rate=0.05))\n",
    "model.add(Dense(1, activation='linear'))\n",
    "\n",
    "optimizer = keras.optimizers.SGD() #Adam(lr=0.0015);\n",
    "# compile model\n",
    "model.compile(loss='mean_squared_error', optimizer=optimizer)"
   ]
  },
  {
   "cell_type": "code",
   "execution_count": 4,
   "metadata": {},
   "outputs": [
    {
     "name": "stdout",
     "output_type": "stream",
     "text": [
      "WARNING:tensorflow:From /Users/drmegavolt/.local/lib/python3.7/site-packages/tensorflow/python/ops/math_ops.py:3066: to_int32 (from tensorflow.python.ops.math_ops) is deprecated and will be removed in a future version.\n",
      "Instructions for updating:\n",
      "Use tf.cast instead.\n",
      "Restoring model weights from the end of the best epoch\n",
      "Epoch 00145: early stopping\n",
      "Train Error: 0.143, Test Error: 0.150\n"
     ]
    },
    {
     "data": {
      "image/png": "[encoded data removed]",
      "text/plain": [
       "<Figure size 432x288 with 1 Axes>"
      ]
     },
     "metadata": {
      "needs_background": "light"
     },
     "output_type": "display_data"
    }
   ],
   "source": [
    "\n",
    "trainX, testX, trainy, testy = train_test_split(X_train, \n",
    "                                                    y_train, \n",
    "                                                    test_size=0.2, \n",
    "                                                    random_state=1)\n",
    "scaler = preprocessing.MinMaxScaler(feature_range=(0, 1))\n",
    "scaler.fit(trainX)\n",
    "trainX= scaler.transform(trainX)\n",
    "testX= scaler.transform(testX)\n",
    "X_test=scaler.transform(X_test)\n",
    "# fit model\n",
    "early_stop = keras.callbacks.EarlyStopping(monitor='val_loss', min_delta=0.00001, patience=30, verbose=1, mode='auto', baseline=None, restore_best_weights=True)\n",
    "tb_callback =keras.callbacks.TensorBoard(log_dir='./logs', histogram_freq=0, batch_size=32, write_graph=True, write_grads=True, write_images=True, embeddings_freq=0, embeddings_layer_names=None, embeddings_metadata=None, embeddings_data=None, update_freq='epoch')\n",
    "history = model.fit(trainX, trainy, validation_data=(testX, testy), \n",
    "                    epochs=3000, verbose=0, batch_size=32, callbacks=[early_stop, tb_callback])\n",
    "\n",
    "drawTFModel(history, model, trainX, trainy, testX, testy)"
   ]
  },
  {
   "cell_type": "code",
   "execution_count": 5,
   "metadata": {},
   "outputs": [],
   "source": [
    "result = model.predict(X_test)\n",
    "dfR = pd.DataFrame(test_ids,columns=['Id'])\n",
    "dfR['SalePrice']=np.exp(result)\n",
    "dfR.to_csv('predictions.csv',index = None, header=True)"
   ]
  },
  {
   "cell_type": "code",
   "execution_count": 6,
   "metadata": {},
   "outputs": [
    {
     "data": {
      "text/plain": [
       "array([[11.707249 ],\n",
       "       [11.912546 ],\n",
       "       [12.0354395],\n",
       "       ...,\n",
       "       [11.832854 ],\n",
       "       [11.834008 ],\n",
       "       [12.21537  ]], dtype=float32)"
      ]
     },
     "execution_count": 6,
     "metadata": {},
     "output_type": "execute_result"
    }
   ],
   "source": [
    "result"
   ]
  },
  {
   "cell_type": "code",
   "execution_count": null,
   "metadata": {},
   "outputs": [],
   "source": []
  },
  {
   "cell_type": "code",
   "execution_count": null,
   "metadata": {},
   "outputs": [],
   "source": []
  },
  {
   "cell_type": "code",
   "execution_count": 7,
   "metadata": {},
   "outputs": [
    {
     "name": "stdout",
     "output_type": "stream",
     "text": [
      "[array([[ 0.01428303, -0.02373893, -0.03165893, ...,  0.0426704 ,\n",
      "        -0.03484999,  0.04718579],\n",
      "       [ 0.01948954, -0.06517894, -0.07330204, ...,  0.00240505,\n",
      "        -0.06732066,  0.03744439],\n",
      "       [-0.02612429, -0.01083535, -0.06768944, ..., -0.01604022,\n",
      "         0.01540539, -0.04116273],\n",
      "       ...,\n",
      "       [ 0.0850445 , -0.02640515,  0.03129257, ..., -0.00704566,\n",
      "        -0.05129026,  0.10776113],\n",
      "       [ 0.06310219,  0.04592377, -0.08182485, ...,  0.01043402,\n",
      "        -0.03556887,  0.05856553],\n",
      "       [ 0.0533346 ,  0.03966028, -0.08767231, ..., -0.00355689,\n",
      "        -0.06572679,  0.10437766]], dtype=float32), array([ 0.2734624 ,  0.08852064,  0.03142796,  0.03229889,  0.01226244,\n",
      "        0.00945195, -0.00945941,  0.12977433,  0.02112935,  0.021178  ,\n",
      "        0.16940388,  0.06610996,  0.02939611,  0.01926364, -0.01802609,\n",
      "        0.3866141 ,  0.18733995,  0.00390022, -0.06263129,  0.01410584,\n",
      "       -0.0044032 ,  0.01026958, -0.0659124 ,  0.00090493, -0.01664225,\n",
      "        0.00300592,  0.41878352, -0.04817377, -0.01005289,  0.03686745,\n",
      "        0.11712889,  0.0105382 ,  0.15800573,  0.05688361, -0.02758709,\n",
      "        0.03804683,  0.00162779,  0.03500849,  0.02853584,  0.3318168 ,\n",
      "       -0.00851454,  0.5272943 , -0.004485  ,  0.0488931 ,  0.0905485 ,\n",
      "        0.04006736,  0.01897978,  0.07155021, -0.00640645,  0.55381936],\n",
      "      dtype=float32), array([[ 0.06247089, -0.04127354, -0.0555745 , ...,  0.12347634,\n",
      "         0.03042308,  0.06208131],\n",
      "       [-0.01504966,  0.03656212, -0.05221372, ...,  0.12412421,\n",
      "        -0.04069863,  0.04493348],\n",
      "       [-0.03021425, -0.03401158,  0.0789107 , ..., -0.05051675,\n",
      "        -0.01447506, -0.00820482],\n",
      "       ...,\n",
      "       [ 0.03288206, -0.05261398,  0.0046571 , ..., -0.01615329,\n",
      "        -0.02543598,  0.05855602],\n",
      "       [ 0.01512453,  0.00652033,  0.05555548, ..., -0.01804141,\n",
      "         0.07496821, -0.00289923],\n",
      "       [ 0.26531515, -0.03174911,  0.01272393, ...,  0.35004178,\n",
      "        -0.06004059,  0.18253052]], dtype=float32), array([ 0.6236728 , -0.0304933 , -0.02636089, -0.05067458, -0.04955255,\n",
      "       -0.02312291,  0.02487906, -0.00159802,  0.3746231 ,  0.02504936,\n",
      "        0.454689  , -0.0669126 ,  0.27957666,  0.40821543, -0.02408541,\n",
      "       -0.08062051, -0.03307338,  0.50917864,  0.        ,  0.61829144,\n",
      "       -0.05490591, -0.09263534,  0.01327752,  0.54587966, -0.06046211,\n",
      "        0.12872961,  0.43685675, -0.01978924,  0.07831075,  0.16055264,\n",
      "       -0.0793184 , -0.03880856, -0.03177747, -0.00269017, -0.06933925,\n",
      "        0.19844352, -0.04830656,  0.6462274 ,  0.08718397,  0.25771216,\n",
      "        0.0480949 , -0.02634086, -0.07912722, -0.05347005,  0.00279236,\n",
      "       -0.10374802, -0.01610888,  0.6828025 , -0.01880302,  0.46381968],\n",
      "      dtype=float32), array([[ 0.7998667 ],\n",
      "       [-0.31729084],\n",
      "       [-0.11852892],\n",
      "       [-0.29983273],\n",
      "       [-0.24484076],\n",
      "       [-0.0902953 ],\n",
      "       [ 0.21571918],\n",
      "       [-0.22175494],\n",
      "       [ 0.4927895 ],\n",
      "       [ 0.03738033],\n",
      "       [ 0.60190225],\n",
      "       [-0.31557328],\n",
      "       [ 0.3959583 ],\n",
      "       [ 0.51229763],\n",
      "       [-0.14721029],\n",
      "       [-0.05561456],\n",
      "       [-0.18239288],\n",
      "       [ 0.63631886],\n",
      "       [-0.15775426],\n",
      "       [ 0.84101135],\n",
      "       [-0.29957363],\n",
      "       [-0.25915527],\n",
      "       [ 0.02913124],\n",
      "       [ 0.6909839 ],\n",
      "       [-0.2913381 ],\n",
      "       [ 0.16447386],\n",
      "       [ 0.5601364 ],\n",
      "       [-0.26480365],\n",
      "       [ 0.11585911],\n",
      "       [ 0.24197844],\n",
      "       [-0.32667515],\n",
      "       [-0.22825502],\n",
      "       [-0.25732258],\n",
      "       [-0.00508032],\n",
      "       [-0.28557572],\n",
      "       [ 0.2565757 ],\n",
      "       [-0.12685896],\n",
      "       [ 0.8069862 ],\n",
      "       [ 0.10437693],\n",
      "       [ 0.34958982],\n",
      "       [ 0.0808004 ],\n",
      "       [-0.2197889 ],\n",
      "       [-0.2130709 ],\n",
      "       [-0.19303   ],\n",
      "       [ 0.03925105],\n",
      "       [-0.15174794],\n",
      "       [-0.30500567],\n",
      "       [ 0.8986701 ],\n",
      "       [-0.23200649],\n",
      "       [ 0.5887854 ]], dtype=float32), array([1.6509202], dtype=float32)]\n"
     ]
    }
   ],
   "source": [
    "print(model.get_weights())"
   ]
  },
  {
   "cell_type": "code",
   "execution_count": 8,
   "metadata": {},
   "outputs": [],
   "source": [
    "df=train"
   ]
  },
  {
   "cell_type": "code",
   "execution_count": null,
   "metadata": {},
   "outputs": [],
   "source": []
  },
  {
   "cell_type": "code",
   "execution_count": null,
   "metadata": {},
   "outputs": [],
   "source": []
  },
  {
   "cell_type": "code",
   "execution_count": null,
   "metadata": {},
   "outputs": [],
   "source": []
  }
 ],
 "metadata": {
  "kernelspec": {
   "display_name": "Python 3",
   "language": "python",
   "name": "python3"
  },
  "language_info": {
   "codemirror_mode": {
    "name": "ipython",
    "version": 3
   },
   "file_extension": ".py",
   "mimetype": "text/x-python",
   "name": "python",
   "nbconvert_exporter": "python",
   "pygments_lexer": "ipython3",
   "version": "3.7.3"
  }
 },
 "nbformat": 4,
 "nbformat_minor": 2
}
