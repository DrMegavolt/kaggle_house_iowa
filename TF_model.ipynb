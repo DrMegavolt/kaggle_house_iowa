{
 "cells": [
  {
   "cell_type": "code",
   "execution_count": 1,
   "metadata": {},
   "outputs": [
    {
     "name": "stderr",
     "output_type": "stream",
     "text": [
      "Using TensorFlow backend.\n"
     ]
    },
    {
     "name": "stdout",
     "output_type": "stream",
     "text": [
      "importing Jupyter notebook from Helpers.ipynb\n"
     ]
    }
   ],
   "source": [
    "import matplotlib.pyplot as plt\n",
    "import seaborn as sns\n",
    "import pandas as pd\n",
    "from matplotlib import pyplot\n",
    "sns.set()\n",
    "import numpy as np\n",
    "from sklearn.model_selection import train_test_split\n",
    "from sklearn import preprocessing\n",
    "from sklearn.preprocessing import FunctionTransformer\n",
    "from keras.layers import Dense, Dropout\n",
    "from keras.models import Sequential\n",
    "pd.set_option('display.max_rows', 50)\n",
    "pd.set_option('display.max_columns', 500)\n",
    "pd.set_option('display.width', 1000)\n",
    "from keras.optimizers import SGD\n",
    "from sklearn.impute import SimpleImputer\n",
    "from sklearn.pipeline import make_pipeline, Pipeline, FeatureUnion\n",
    "\n",
    "import keras\n",
    "from tensorflow.python import debug as tf_debug\n",
    "from tensorflow.python.client import device_lib\n",
    "#print(device_lib.list_local_devices())\n",
    "import import_ipynb\n",
    "from Helpers import *"
   ]
  },
  {
   "cell_type": "code",
   "execution_count": 13,
   "metadata": {},
   "outputs": [],
   "source": [
    "train = pd.read_csv('train.csv', index_col='Id')\n",
    "test = pd.read_csv('test.csv',index_col='Id')\n",
    "test_ids = test.index\n",
    "y_train = np.log(train['SalePrice'])\n",
    "np.random.seed(1)\n",
    "\n",
    "total_bath= lambda x: x.FullBath+x.HalfBath*0.5 +x.BsmtHalfBath*0.5+x.BsmtFullBath\n",
    "\n",
    "\n",
    "bath_columns = ['FullBath','HalfBath','BsmtHalfBath', 'BsmtFullBath']\n",
    "bath_pipeline = Pipeline([\n",
    "    ('SelectBathColumns',  ColumnSelector(columns=bath_columns)),\n",
    "    ('fillNaAsZero', FillNA(columns=bath_columns, fill_value=0)),\n",
    "    ('combine', ApplyTransformer(fn=total_bath, name='Bath'))\n",
    "]) \n",
    "  \n",
    "\n",
    "important_columns = [\n",
    "    'GrLivArea', 'YearBuilt', 'OverallQual','MSSubClass',\n",
    "]\n",
    "\n",
    "cs = ColumnSelector(columns=important_columns)\n",
    "\n",
    "scdt = DummiesTransformer(column='MSSubClass', keys=[ 20,  30,  40,  45,  50,  60,  70,  75,  80,  85,  90, 120, 150, 160, 180, 190])\n",
    "oqdt = DummiesTransformer(column='OverallQual', keys=range(1,11))\n",
    "\n",
    "core_pipeline = Pipeline(\n",
    "    [('SelectColumns', cs),\n",
    "     ('DummiesMSSubClass', scdt),\n",
    "     ('OverallQual', oqdt)\n",
    "    ])\n",
    "\n",
    "pp = FeatureUnion([\n",
    "    ('bath',bath_pipeline),\n",
    "    ('core', core_pipeline)])\n",
    "\n",
    "X_train = pp.fit_transform(train)\n",
    "X_test = pp.fit_transform(test)\n",
    " "
   ]
  },
  {
   "cell_type": "code",
   "execution_count": 3,
   "metadata": {},
   "outputs": [
    {
     "ename": "AttributeError",
     "evalue": "'numpy.ndarray' object has no attribute 'columns'",
     "output_type": "error",
     "traceback": [
      "\u001b[0;31m---------------------------------------------------------------------------\u001b[0m",
      "\u001b[0;31mAttributeError\u001b[0m                            Traceback (most recent call last)",
      "\u001b[0;32m<ipython-input-3-2751760be108>\u001b[0m in \u001b[0;36m<module>\u001b[0;34m\u001b[0m\n\u001b[1;32m      1\u001b[0m \u001b[0;31m# define model\u001b[0m\u001b[0;34m\u001b[0m\u001b[0;34m\u001b[0m\u001b[0;34m\u001b[0m\u001b[0m\n\u001b[1;32m      2\u001b[0m \u001b[0mmodel\u001b[0m \u001b[0;34m=\u001b[0m \u001b[0mSequential\u001b[0m\u001b[0;34m(\u001b[0m\u001b[0;34m)\u001b[0m\u001b[0;34m\u001b[0m\u001b[0;34m\u001b[0m\u001b[0m\n\u001b[0;32m----> 3\u001b[0;31m \u001b[0minput_layer\u001b[0m \u001b[0;34m=\u001b[0m \u001b[0mDense\u001b[0m\u001b[0;34m(\u001b[0m\u001b[0;36m50\u001b[0m\u001b[0;34m,\u001b[0m \u001b[0minput_dim\u001b[0m\u001b[0;34m=\u001b[0m\u001b[0mlen\u001b[0m\u001b[0;34m(\u001b[0m\u001b[0mX_train\u001b[0m\u001b[0;34m.\u001b[0m\u001b[0mcolumns\u001b[0m\u001b[0;34m)\u001b[0m\u001b[0;34m,\u001b[0m \u001b[0mactivation\u001b[0m\u001b[0;34m=\u001b[0m\u001b[0;34m'relu'\u001b[0m\u001b[0;34m,\u001b[0m \u001b[0mkernel_initializer\u001b[0m\u001b[0;34m=\u001b[0m\u001b[0;34m'normal'\u001b[0m\u001b[0;34m)\u001b[0m\u001b[0;34m\u001b[0m\u001b[0;34m\u001b[0m\u001b[0m\n\u001b[0m\u001b[1;32m      4\u001b[0m \u001b[0mmodel\u001b[0m\u001b[0;34m.\u001b[0m\u001b[0madd\u001b[0m\u001b[0;34m(\u001b[0m\u001b[0minput_layer\u001b[0m\u001b[0;34m)\u001b[0m\u001b[0;34m\u001b[0m\u001b[0;34m\u001b[0m\u001b[0m\n\u001b[1;32m      5\u001b[0m \u001b[0;34m\u001b[0m\u001b[0m\n",
      "\u001b[0;31mAttributeError\u001b[0m: 'numpy.ndarray' object has no attribute 'columns'"
     ]
    }
   ],
   "source": [
    "# define model\n",
    "model = Sequential()\n",
    "input_layer = Dense(50, input_dim=len(X_train.columns), activation='relu', kernel_initializer='normal') \n",
    "model.add(input_layer)\n",
    "\n",
    "model.add(Dense(50, activation='relu', kernel_initializer='normal') )\n",
    "# model.add(Dropout(rate=0.2))\n",
    "model.add(Dense(1, activation='linear'))\n",
    "\n",
    "optimizer = keras.optimizers.SGD() #Adam(lr=0.0015);\n",
    "# compile model\n",
    "model.compile(loss='mean_squared_error', optimizer=optimizer)"
   ]
  },
  {
   "cell_type": "code",
   "execution_count": null,
   "metadata": {},
   "outputs": [],
   "source": [
    "\n",
    "trainX, testX, trainy, testy = train_test_split(X_train, \n",
    "                                                    y_train, \n",
    "                                                    test_size=0.2, \n",
    "                                                    random_state=1)\n",
    "scaler = preprocessing.MinMaxScaler(feature_range=(0, 1))\n",
    "scaler.fit(trainX)\n",
    "trainX= scaler.transform(trainX)\n",
    "testX= scaler.transform(testX)\n",
    "X_test=scaler.transform(X_test)\n",
    "# fit model\n",
    "early_stop = keras.callbacks.EarlyStopping(monitor='val_loss', min_delta=0.00001, patience=30, verbose=1, mode='auto', baseline=None, restore_best_weights=True)\n",
    "tb_callback =keras.callbacks.TensorBoard(log_dir='./logs', histogram_freq=0, batch_size=32, write_graph=True, write_grads=True, write_images=True, embeddings_freq=0, embeddings_layer_names=None, embeddings_metadata=None, embeddings_data=None, update_freq='epoch')\n",
    "history = model.fit(trainX, trainy, validation_data=(testX, testy), \n",
    "                    epochs=3000, verbose=0, batch_size=32, callbacks=[early_stop, tb_callback])\n",
    "\n",
    "drawTFModel(history, model, trainX, trainy, testX, testy)"
   ]
  },
  {
   "cell_type": "code",
   "execution_count": null,
   "metadata": {},
   "outputs": [],
   "source": [
    "result = model.predict(X_test)\n",
    "dfR = pd.DataFrame(test_ids,columns=['Id'])\n",
    "dfR['SalePrice']=np.exp(result)\n",
    "dfR.to_csv('predictions.csv',index = None, header=True)"
   ]
  },
  {
   "cell_type": "code",
   "execution_count": null,
   "metadata": {},
   "outputs": [],
   "source": [
    "result"
   ]
  },
  {
   "cell_type": "code",
   "execution_count": null,
   "metadata": {},
   "outputs": [],
   "source": []
  },
  {
   "cell_type": "code",
   "execution_count": null,
   "metadata": {},
   "outputs": [],
   "source": []
  },
  {
   "cell_type": "code",
   "execution_count": null,
   "metadata": {},
   "outputs": [],
   "source": [
    "print(model.get_weights())"
   ]
  },
  {
   "cell_type": "code",
   "execution_count": null,
   "metadata": {},
   "outputs": [],
   "source": [
    "df=train"
   ]
  },
  {
   "cell_type": "code",
   "execution_count": null,
   "metadata": {},
   "outputs": [],
   "source": []
  },
  {
   "cell_type": "code",
   "execution_count": null,
   "metadata": {},
   "outputs": [],
   "source": []
  },
  {
   "cell_type": "code",
   "execution_count": null,
   "metadata": {},
   "outputs": [],
   "source": []
  }
 ],
 "metadata": {
  "kernelspec": {
   "display_name": "Python 3",
   "language": "python",
   "name": "python3"
  },
  "language_info": {
   "codemirror_mode": {
    "name": "ipython",
    "version": 3
   },
   "file_extension": ".py",
   "mimetype": "text/x-python",
   "name": "python",
   "nbconvert_exporter": "python",
   "pygments_lexer": "ipython3",
   "version": "3.7.3"
  }
 },
 "nbformat": 4,
 "nbformat_minor": 2
}
